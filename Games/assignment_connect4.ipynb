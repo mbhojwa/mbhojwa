{
  "cells": [
    {
      "cell_type": "markdown",
      "metadata": {
        "id": "BdGfuQgl9gZg"
      },
      "source": [
        "# Adversarial Search: Playing Connect 4\n",
        "\n",
        "Student Name: [Add your name]\n",
        "\n",
        "I have used the following AI tools: [list tools]\n",
        "\n",
        "I understand that my submission needs to be my own work: [your initials]\n",
        "\n",
        "## Instructions\n",
        "\n",
        "Total Points: Undergraduates 100, graduate students 110\n",
        "\n",
        "Complete this notebook and submit it. The notebook needs to be a complete project report with your implementation, documentation including a short discussion of how your implementation works and your design choices, and experimental results (e.g., tables and charts with simulation results) with a short discussion of what they mean. Use the provided notebook cells and insert additional code and markdown cells as needed. Submit the completely rendered notebook as a HTML file.\n",
        "\n",
        "\n",
        "## Introduction\n",
        "\n",
        "You will implement different versions of agents that play Connect 4:\n",
        "\n",
        "> \"Connect 4 is a two-player connection board game, in which the players choose a color and then take turns dropping colored discs into a seven-column, six-row vertically suspended grid. The pieces fall straight down, occupying the lowest available space within the column. The objective of the game is to be the first to form a horizontal, vertical, or diagonal line of four of one's own discs.\" (see [Connect Four on Wikipedia](https://en.wikipedia.org/wiki/Connect_Four))\n",
        "\n",
        "Note that [Connect-4 has been solved](https://en.wikipedia.org/wiki/Connect_Four#Mathematical_solution)\n",
        "in 1988. A connect-4 solver with a discussion of how to solve different parts of the problem can be found here: https://connect4.gamesolver.org/en/"
      ]
    },
    {
      "cell_type": "markdown",
      "metadata": {
        "id": "W1upaqdC9gZk"
      },
      "source": [
        "## Task 1: Defining the Search Problem [10 point]\n",
        "\n",
        "Define the components of the search problem:\n",
        "\n",
        "* Initial state\n",
        "* Actions\n",
        "* Transition model (result function)\n",
        "* Goal state (terminal state and utility)\n",
        "\n",
        "Describe each component and then implement it as a function that can be used by search algorithms."
      ]
    },
    {
      "cell_type": "code",
      "execution_count": 38,
      "metadata": {
        "id": "23fsdMzO9gZk"
      },
      "outputs": [],
      "source": [
        "# Your code/answer goes here.\n",
        "'''\n",
        "The board is empty at the beginning. It's a 6-row by 7-column grid (6x7). All positions are blank, and the first player (Player 1) is about to move.\n",
        "\n",
        "A player can drop a piece in any column that’s not full. So the actions are all column numbers (0 to 6) where there is space.\n",
        "\n",
        "This Result function returns a new board after a player drops their piece in a selected column. The piece falls to the lowest available row.\n",
        "\n",
        "Check if the game is over:\n",
        "\n",
        "A player wins (4 in a row: horizontal, vertical, or diagonal)\n",
        "\n",
        "The board is full (draw)\n",
        "\n",
        "We also return utility:\n",
        "\n",
        "+1 if Player 1 wins\n",
        "\n",
        "-1 if Player 2 wins\n",
        "\n",
        "0 if draw\n",
        "\n",
        "'''\n",
        "import copy\n",
        "\n",
        "def initial_state():\n",
        "    return [[0 for _ in range(7)] for _ in range(6)]  # 0 means empty\n",
        "\n",
        "def get_actions(board):\n",
        "    actions = []\n",
        "    for col in range(7):\n",
        "        if board[0][col] == 0:  # Top row still empty in this column\n",
        "            actions.append(col)\n",
        "    return actions\n",
        "\n",
        "def result(board, action, player):\n",
        "    new_board = copy.deepcopy(board)\n",
        "    for row in reversed(range(6)):  # Start from bottom row\n",
        "        if new_board[row][action] == 0:\n",
        "            new_board[row][action] = player\n",
        "            break\n",
        "    return new_board\n",
        "\n",
        "\n",
        "def check_winner(board):\n",
        "    for row in range(6):\n",
        "        for col in range(7):\n",
        "            player = board[row][col]\n",
        "            if player == 0:\n",
        "                continue\n",
        "            # Check all directions: right, down, diagonal down-right, diagonal up-right\n",
        "            if col <= 3 and all(board[row][col + i] == player for i in range(4)):\n",
        "                return player\n",
        "            if row <= 2 and all(board[row + i][col] == player for i in range(4)):\n",
        "                return player\n",
        "            if row <= 2 and col <= 3 and all(board[row + i][col + i] == player for i in range(4)):\n",
        "                return player\n",
        "            if row >= 3 and col <= 3 and all(board[row - i][col + i] == player for i in range(4)):\n",
        "                return player\n",
        "    return 0  # no winner yet\n",
        "\n",
        "def is_terminal(board):\n",
        "    return check_winner(board) != 0 or all(board[0][col] != 0 for col in range(7))\n",
        "\n",
        "def utility(board):\n",
        "    winner = check_winner(board)\n",
        "    if winner == 1:\n",
        "        return 1\n",
        "    elif winner == -1:\n",
        "        return -1\n",
        "    else:\n",
        "        return 0  # draw or ongoing\n",
        "\n"
      ]
    },
    {
      "cell_type": "markdown",
      "metadata": {
        "id": "ekZXp5lw9gZl"
      },
      "source": [
        "How big is the state space? Give an estimate and explain it."
      ]
    },
    {
      "cell_type": "code",
      "execution_count": 82,
      "metadata": {
        "colab": {
          "base_uri": "https://localhost:8080/",
          "height": 70
        },
        "id": "8Ow0yUXo9gZl",
        "outputId": "395ceb7e-3394-49d0-d4c0-d07b0d148937"
      },
      "outputs": [
        {
          "output_type": "execute_result",
          "data": {
            "text/plain": [
              "'\\nThe board has 6 rows and 7 columns = 42 slots.\\n\\nEach slot can be:\\n\\nEmpty\\n\\nPlayer 1’s disc\\n\\nPlayer 2’s disc\\n\\nThat’s 3 choices per slot:\\n3^42 ≈ 1.09 x 10^20 possible board combinations.\\nThis is an estimate — some of these won’t happen in real games (like a board where both players placed discs at the same time), but it shows the space is huge.\\n\\n\\n\\n\\n'"
            ],
            "application/vnd.google.colaboratory.intrinsic+json": {
              "type": "string"
            }
          },
          "metadata": {},
          "execution_count": 82
        }
      ],
      "source": [
        "'''\n",
        "The board has 6 rows and 7 columns = 42 slots.\n",
        "\n",
        "Each slot can be:\n",
        "\n",
        "Empty\n",
        "\n",
        "Player 1’s disc\n",
        "\n",
        "Player 2’s disc\n",
        "\n",
        "That’s 3 choices per slot:\n",
        "3^42 ≈ 1.09 x 10^20 possible board combinations.\n",
        "This is an estimate — some of these won’t happen in real games (like a board where both players placed discs at the same time), but it shows the space is huge.\n",
        "\n",
        "\n",
        "\n",
        "\n",
        "'''"
      ]
    },
    {
      "cell_type": "markdown",
      "metadata": {
        "id": "en859UFb9gZm"
      },
      "source": [
        "How big is the game tree that minimax search will go through? Give an estimate and explain it."
      ]
    },
    {
      "cell_type": "code",
      "execution_count": 81,
      "metadata": {
        "colab": {
          "base_uri": "https://localhost:8080/",
          "height": 70
        },
        "id": "c4Nu8UKV9gZo",
        "outputId": "57f337e3-f4f2-4854-b7a3-a80d35783470"
      },
      "outputs": [
        {
          "output_type": "execute_result",
          "data": {
            "text/plain": [
              "'\\nEach move can go into 7 columns. On average, there are about 5 valid moves as the game goes on.\\n\\nThe game usually ends in less than 42 moves.\\n\\nSo the size of the game tree is around:\\n5^42 ≈ 1.39 x 10^29 possible paths.\\n\\nThis is too big to search completely, so we use smarter search with depth limits, heuristics, or pruning like alpha-beta.\\n\\n\\n'"
            ],
            "application/vnd.google.colaboratory.intrinsic+json": {
              "type": "string"
            }
          },
          "metadata": {},
          "execution_count": 81
        }
      ],
      "source": [
        "'''\n",
        "Each move can go into 7 columns. On average, there are about 5 valid moves as the game goes on.\n",
        "\n",
        "The game usually ends in less than 42 moves.\n",
        "\n",
        "So the size of the game tree is around:\n",
        "5^42 ≈ 1.39 x 10^29 possible paths.\n",
        "\n",
        "This is too big to search completely, so we use smarter search with depth limits, heuristics, or pruning like alpha-beta.\n",
        "\n",
        "\n",
        "'''"
      ]
    },
    {
      "cell_type": "markdown",
      "metadata": {
        "id": "H8VImywH9gZp"
      },
      "source": [
        "## Task 2: Game Environment and Random Agent [25 point]\n",
        "\n",
        "Use a numpy character array as the board."
      ]
    },
    {
      "cell_type": "code",
      "execution_count": 80,
      "metadata": {
        "colab": {
          "base_uri": "https://localhost:8080/"
        },
        "id": "PgJpAEKn9gZp",
        "outputId": "55fcf1fd-97b2-4caa-ab9a-5ea58cea2b82"
      },
      "outputs": [
        {
          "output_type": "stream",
          "name": "stdout",
          "text": [
            "[[0 0 0 0 0 0 0]\n",
            " [0 0 0 0 0 0 0]\n",
            " [0 0 0 0 0 0 0]\n",
            " [0 0 0 0 0 0 0]\n",
            " [0 0 0 0 0 0 0]\n",
            " [0 0 0 0 0 0 0]]\n"
          ]
        }
      ],
      "source": [
        "import numpy as np\n",
        "\n",
        "def empty_board(shape=(6, 7)):\n",
        "    return np.full(shape=shape, fill_value=0)\n",
        "\n",
        "print(empty_board())"
      ]
    },
    {
      "cell_type": "markdown",
      "metadata": {
        "id": "5FlpchGJ9gZq"
      },
      "source": [
        "The standard board is $6 \\times 7$ but you can use smaller boards to test your code. Instead of colors (red and yellow), I use 1 and -1 to represent the players. Make sure that your agent functions all have the from: `agent_type(board, player = 1)`, where board is the current board position (in the format above) and player is the player whose next move it is and who the agent should play (as 1 and -1)."
      ]
    },
    {
      "cell_type": "code",
      "execution_count": 79,
      "metadata": {
        "tags": [],
        "colab": {
          "base_uri": "https://localhost:8080/",
          "height": 430
        },
        "id": "fwIU4-O99gZq",
        "outputId": "b23442af-e5fa-4f7b-e8fa-906f4717e1f8"
      },
      "outputs": [
        {
          "output_type": "display_data",
          "data": {
            "text/plain": [
              "<Figure size 640x480 with 1 Axes>"
            ],
            "image/png": "[encoded data removed]"
          },
          "metadata": {}
        }
      ],
      "source": [
        "# Visualization code by Randolph Rankin\n",
        "\n",
        "import matplotlib.pyplot as plt\n",
        "\n",
        "def visualize(board):\n",
        "    plt.axes()\n",
        "    rectangle=plt.Rectangle((-0.5,len(board)*-1+0.5),len(board[0]),len(board),fc='blue')\n",
        "    circles=[]\n",
        "    for i,row in enumerate(board):\n",
        "        for j,val in enumerate(row):\n",
        "            color='white' if val==0 else 'red' if val==1 else 'yellow'\n",
        "            circles.append(plt.Circle((j,i*-1),0.4,fc=color))\n",
        "\n",
        "    plt.gca().add_patch(rectangle)\n",
        "    for circle in circles:\n",
        "        plt.gca().add_patch(circle)\n",
        "\n",
        "    plt.axis('scaled')\n",
        "    plt.show()\n",
        "\n",
        "board = [[0, 0, 0, 0, 0, 0, 0],\n",
        "         [0, 0, 0, 0, 0, 0, 0],\n",
        "         [0, 0, 0, 0, 0, 0, 0],\n",
        "         [0, 0, 0, 1, 0, 0, 0],\n",
        "         [0, 0, 0, 1, 0, 0, 0],\n",
        "         [0,-1,-1, 1,-1, 0, 0]]\n",
        "visualize(board)"
      ]
    },
    {
      "cell_type": "markdown",
      "metadata": {
        "tags": [],
        "id": "XwKq0qfI9gZq"
      },
      "source": [
        "Implement helper functions for:\n",
        "\n",
        "* A check for available actions in each state `actions(state)`.\n",
        "* The transition model `result(state, player, action)`.\n",
        "* Check for terminal states `terminal(state)`.\n",
        "* The utility function `utility(state, player)`.\n",
        "\n",
        "The player argument is used so your agent can play red or yellow.\n",
        "Make sure that all these functions work with boards of different sizes (number of columns and rows).\n",
        "You can follow the [tic-tac-toe example from class.](https://colab.research.google.com/github/mhahsler/CS7320-AI/blob/master/Games/tictactoe_definitions.ipynb)"
      ]
    },
    {
      "cell_type": "code",
      "execution_count": 78,
      "metadata": {
        "id": "14Ox1NSk9gZq"
      },
      "outputs": [],
      "source": [
        "def actions(state):\n",
        "    return [col for col in range(state.shape[1]) if state[0][col] == 0]\n",
        "\n",
        "def result(state, player, action):\n",
        "    new_state = np.copy(state)\n",
        "    for row in range(state.shape[0] - 1, -1, -1):  # From bottom to top\n",
        "        if new_state[row][action] == 0:\n",
        "            new_state[row][action] = player\n",
        "            break\n",
        "    return new_state\n",
        "\n",
        "def terminal(state):\n",
        "    return check_winner(state) != 0 or np.all(state[0] != 0)\n",
        "\n",
        "def utility(state, player):\n",
        "    winner = check_winner(state)\n",
        "    if winner == player:\n",
        "        return 1\n",
        "    elif winner == -player:\n",
        "        return -1\n",
        "    else:\n",
        "        return 0\n",
        "\n",
        "def check_winner(board):\n",
        "    rows, cols = board.shape\n",
        "    for row in range(rows):\n",
        "        for col in range(cols):\n",
        "            player = board[row][col]\n",
        "            if player == 0:\n",
        "                continue\n",
        "            # Horizontal (right)\n",
        "            if col <= cols - 4 and all(board[row, col + i] == player for i in range(4)):\n",
        "                return int(player)\n",
        "            # Vertical (down)\n",
        "            if row <= rows - 4 and all(board[row + i, col] == player for i in range(4)):\n",
        "                return int(player)\n",
        "            # Diagonal down-right\n",
        "            if row <= rows - 4 and col <= cols - 4 and all(board[row + i, col + i] == player for i in range(4)):\n",
        "                return int(player)\n",
        "            # Diagonal up-right\n",
        "            if row >= 3 and col <= cols - 4 and all(board[row - i, col + i] == player for i in range(4)):\n",
        "                return int(player)\n",
        "    return 0  # No winner\n",
        "\n",
        "\n"
      ]
    },
    {
      "cell_type": "markdown",
      "metadata": {
        "id": "_FUAvdar9gZq"
      },
      "source": [
        "Implement an agent that plays randomly. Make sure the agent function receives as the percept the board and returns a valid action. Use an agent function definition with the following signature (arguments):\n",
        "\n",
        "`def random_player(board, player = 1): ...`\n",
        "\n",
        "The argument `player` is used for agents that do not store what color they are playing. The value passed on by the environment should be 1 ot -1 for player red and yellow, respectively.  See [Experiments section for tic-tac-toe](https://nbviewer.org/github/mhahsler/CS7320-AI/blob/master/Games/tictactoe_and_or_tree_search.ipynb#Experiments) for an example."
      ]
    },
    {
      "cell_type": "code",
      "execution_count": 77,
      "metadata": {
        "colab": {
          "base_uri": "https://localhost:8080/"
        },
        "id": "hei2Nr5C9gZq",
        "outputId": "f5ca0831-1705-4647-854b-e27db9dcab77"
      },
      "outputs": [
        {
          "output_type": "stream",
          "name": "stdout",
          "text": [
            "Random move chosen: 6\n"
          ]
        }
      ],
      "source": [
        "import random\n",
        "\n",
        "def random_player(board, player=1):\n",
        "    valid_actions = actions(board)\n",
        "    if valid_actions:\n",
        "        return random.choice(valid_actions)\n",
        "    return None  # No valid moves left (shouldn't happen if used correctly)\n",
        "\n",
        "board = empty_board()\n",
        "move = random_player(board, player=1)\n",
        "print(\"Random move chosen:\", move)\n"
      ]
    },
    {
      "cell_type": "markdown",
      "metadata": {
        "id": "5zEOsoXM9gZr"
      },
      "source": [
        "Let two random agents play against each other 1000 times. Look at the [Experiments section for tic-tac-toe](https://nbviewer.org/github/mhahsler/CS7320-AI/blob/master/Games/tictactoe_and_or_tree_search.ipynb#Experiments) to see how the environment uses the agent functions to play against each other.\n",
        "\n",
        "How often does each player win? Is the result expected?"
      ]
    },
    {
      "cell_type": "code",
      "execution_count": 76,
      "metadata": {
        "tags": [],
        "colab": {
          "base_uri": "https://localhost:8080/"
        },
        "id": "yOqPm7Eu9gZr",
        "outputId": "4c1f6626-5e9a-440c-8601-46987cfbce11"
      },
      "outputs": [
        {
          "output_type": "stream",
          "name": "stdout",
          "text": [
            "After 1000 random games:\n",
            "Player 1 (Red) wins:   576\n",
            "Player -1 (Yellow) wins: 420\n",
            "Draws:                 4\n"
          ]
        }
      ],
      "source": [
        "def play_game(agent1, agent2, board_shape=(6, 7)):\n",
        "    board = empty_board(board_shape)\n",
        "    current_player = 1\n",
        "    agents = {1: agent1, -1: agent2}\n",
        "\n",
        "    move_count = 0\n",
        "    max_moves = board_shape[0] * board_shape[1]\n",
        "\n",
        "    while not terminal(board) and move_count < max_moves:\n",
        "        valid_moves = actions(board)\n",
        "        if not valid_moves:\n",
        "            break\n",
        "\n",
        "        action = agents[current_player](board, current_player)\n",
        "        if action in valid_moves:\n",
        "            board = result(board, current_player, action)\n",
        "            current_player *= -1\n",
        "            move_count += 1\n",
        "        else:\n",
        "            break\n",
        "\n",
        "    return check_winner(board)\n",
        "\n",
        "def run_simulations(num_games=1000):\n",
        "    wins = {1: 0, -1: 0, 0: 0}\n",
        "    for _ in range(num_games):\n",
        "        result_winner = play_game(random_player, random_player)\n",
        "        if result_winner in wins:\n",
        "            wins[result_winner] += 1\n",
        "        else:\n",
        "            # Catch unexpected outputs for debugging\n",
        "            print(f\"Unexpected winner value: {result_winner}\")\n",
        "    return wins\n",
        "\n",
        "\n",
        "results = run_simulations()\n",
        "print(\"After 1000 random games:\")\n",
        "print(f\"Player 1 (Red) wins:   {results[1]}\")\n",
        "print(f\"Player -1 (Yellow) wins: {results[-1]}\")\n",
        "print(f\"Draws:                 {results[0]}\")\n",
        "\n"
      ]
    },
    {
      "cell_type": "markdown",
      "metadata": {
        "id": "-w2xaecx9gZr"
      },
      "source": [
        "## Task 3: Minimax Search with Alpha-Beta Pruning\n",
        "\n",
        "### Implement the Search [20 points]\n",
        "\n",
        "Implement minimax search starting from a given board for specifying the player.\n",
        "\n",
        "__Important Notes:__\n",
        "* You can use code from the [tic-tac-toe example](https://nbviewer.org/github/mhahsler/CS7320-AI/blob/master/Games/tictactoe_alpha_beta_tree_search.ipynb).\n",
        "* Make sure that all your agent functions have a signature consistent with the random agent above and that it [uses a class to store state information.](https://nbviewer.org/github/mhahsler/CS7320-AI/blob/master/HOWTOs/store_agent_state_information.ipynb)\n",
        "This is essential to be able play against agents from other students later.\n",
        "* The game tree for a $6 \\times 7$ board is huge and optimal algorithms need to visit each or a large percentage of all nodes in the tree. You can experiment with smaller boards like a $4 \\times 4$ board first."
      ]
    },
    {
      "cell_type": "code",
      "execution_count": 125,
      "metadata": {
        "id": "LmC7xnpl9gZr"
      },
      "outputs": [],
      "source": [
        "def actions(board):\n",
        "    return [col for col in range(board.shape[1]) if board[0][col] == 0]\n",
        "\n",
        "def result(board, player, action):\n",
        "    new_board = np.copy(board)\n",
        "    for row in range(board.shape[0]-1, -1, -1):\n",
        "        if new_board[row, action] == 0:\n",
        "            new_board[row, action] = int(player)\n",
        "            break\n",
        "    return new_board\n",
        "\n",
        "\n",
        "def check_winner(board):\n",
        "    rows, cols = board.shape\n",
        "    for row in range(rows):\n",
        "        for col in range(cols):\n",
        "            player = board[row][col]\n",
        "            if player == 0:\n",
        "                continue\n",
        "            # Horizontal\n",
        "            if col <= cols - 4 and all(board[row, col+i] == player for i in range(4)):\n",
        "                return int(player)\n",
        "            # Vertical\n",
        "            if row <= rows - 4 and all(board[row+i, col] == player for i in range(4)):\n",
        "                return int(player)\n",
        "            # Diagonal Down-Right\n",
        "            if row <= rows - 4 and col <= cols - 4 and all(board[row+i, col+i] == player for i in range(4)):\n",
        "                return int(player)\n",
        "            # Diagonal Up-Right\n",
        "            if row >= 3 and col <= cols - 4 and all(board[row-i, col+i] == player for i in range(4)):\n",
        "                return int(player)\n",
        "    return 0\n",
        "\n",
        "def terminal(board):\n",
        "    return check_winner(board) != 0 or np.all(board[0] != 0)\n",
        "\n",
        "def utility(board, player):\n",
        "    winner = check_winner(board)\n",
        "    if winner == 0:\n",
        "        return 0\n",
        "    elif winner == player:\n",
        "        return 1\n",
        "    else:\n",
        "        return -1\n",
        "\n",
        "def ordered_actions(board):\n",
        "    center = board.shape[1] // 2\n",
        "    actions = [col for col in range(board.shape[1]) if board[0][col] == 0]\n",
        "\n",
        "    # For boards with <= 4 columns, prioritize higher index (like column 3)\n",
        "    if board.shape[1] <= 4:\n",
        "        return sorted(actions, key=lambda col: (-col))  # Try right-to-left\n",
        "\n",
        "    # Otherwise: prefer center-outward\n",
        "    return sorted(actions, key=lambda col: (abs(center - col), -col))\n",
        "\n",
        "\n",
        "\n",
        "class MinimaxAgent:\n",
        "    def __init__(self, max_depth=5):\n",
        "        self.max_depth = max_depth\n",
        "\n",
        "    def __call__(self, board, player=1):\n",
        "      action, _ = self.minimax(board, player, player, depth=0, alpha=float('-inf'), beta=float('inf'))\n",
        "      return action\n",
        "\n",
        "    def minimax(self, board, root_player, current_player, depth, alpha, beta):\n",
        "      if terminal(board) or depth == self.max_depth:\n",
        "          u = utility(board, root_player)  # Always score from the root player's view\n",
        "          return None, u\n",
        "\n",
        "      best_value = float('-inf') if current_player == root_player else float('inf')\n",
        "      best_action = None\n",
        "\n",
        "      for action in ordered_actions(board):\n",
        "        new_board = result(board, current_player, action)\n",
        "\n",
        "\n",
        "        if depth == 0 and check_winner(new_board) == current_player:\n",
        "          best_action = action\n",
        "          best_value = 1\n",
        "          return best_action, best_value\n",
        "\n",
        "        _, value = self.minimax(new_board, root_player, -current_player, depth + 1, alpha, beta)\n",
        "\n",
        "        if current_player == root_player:\n",
        "            if value > best_value:\n",
        "                best_value = value\n",
        "                best_action = action\n",
        "            alpha = max(alpha, best_value)\n",
        "            if beta <= alpha:\n",
        "                break\n",
        "        else:\n",
        "            if value < best_value:\n",
        "                best_value = value\n",
        "                best_action = action\n",
        "            beta = min(beta, best_value)\n",
        "            if beta <= alpha:\n",
        "                break\n",
        "\n",
        "        return best_action, best_value\n",
        "\n",
        "\n",
        "\n",
        "\n",
        "\n",
        "\n"
      ]
    },
    {
      "cell_type": "markdown",
      "metadata": {
        "id": "H7gmIueN9gZr"
      },
      "source": [
        "Experiment with some manually created boards (at least 5) to check if the agent spots winning opportunities."
      ]
    },
    {
      "cell_type": "code",
      "execution_count": 124,
      "metadata": {
        "colab": {
          "base_uri": "https://localhost:8080/"
        },
        "id": "EdWS5Bec9gZr",
        "outputId": "3887e57e-7d01-41ae-e43d-592f56abedcf"
      },
      "outputs": [
        {
          "output_type": "stream",
          "name": "stdout",
          "text": [
            "Test 1: Agent move = 3\n",
            "Test 2: Agent move = 3\n",
            "Test 3: Agent move = 3\n",
            "Test 4: Agent move = 2\n",
            "Test 5: Agent move = 3\n"
          ]
        }
      ],
      "source": [
        "board1 = np.array([\n",
        "    [0, 0, 0, 0],\n",
        "    [0, 0, 0, 0],\n",
        "    [0, 0, 0, 0],\n",
        "    [1, 1, 1, 0],\n",
        "], dtype=int)\n",
        "\n",
        "board2 = np.array([\n",
        "    [0, 0, 0, 0],\n",
        "    [0, 0, 0, 0],\n",
        "    [1, 0, 0, 0],\n",
        "    [1, 0, 0, 0],\n",
        "], dtype=int)\n",
        "\n",
        "\n",
        "board3 = np.array([\n",
        "    [0, 0, 0, 0],\n",
        "    [0, 0, 0, 0],\n",
        "    [1, -1, 0, 0],\n",
        "    [-1, 1, -1, 0],\n",
        "], dtype=int)\n",
        "\n",
        "\n",
        "board4 = np.array([\n",
        "    [0, 0, 0, 1],\n",
        "    [0, 0, 1, -1],\n",
        "    [0, 1, -1, 1],\n",
        "    [0, -1, 1, -1],\n",
        "], dtype=int)\n",
        "\n",
        "\n",
        "board5 = np.array([\n",
        "    [0, 0, 0, 0],\n",
        "    [0, 0, 0, 0],\n",
        "    [-1, -1, -1, 0],\n",
        "    [1, 1, 0, 0],\n",
        "], dtype=int)\n",
        "\n",
        "test_boards = [board1, board2, board3, board4, board5]\n",
        "expected_moves = [3, 0, 3, 0, 3]\n",
        "\n",
        "agent = MinimaxAgent(max_depth=8)\n",
        "\n",
        "for i, (board, expected) in enumerate(zip(test_boards, expected_moves), 1):\n",
        "    move = agent(board, player=1)\n",
        "    print(f\"Test {i}: Agent move = {move}\")\n",
        "\n",
        "\n",
        "\n",
        "\n",
        "\n",
        "\n",
        "\n",
        "\n",
        "\n",
        "\n"
      ]
    },
    {
      "cell_type": "markdown",
      "metadata": {
        "id": "HD_W6_5F9gZr"
      },
      "source": [
        "How long does it take to make a move? Start with a smaller board with 4 columns and make the board larger by adding columns/rows. Explain why using this algorithm on a standard $6 \\times 7$ board is not feasible."
      ]
    },
    {
      "cell_type": "code",
      "execution_count": null,
      "metadata": {
        "id": "nqcnhrm19gZr"
      },
      "outputs": [],
      "source": [
        "'''\n",
        "The time it takes to make a move using the Minimax algorithm increases rapidly with both the board size and\n",
        "the depth of the search. On a small 4×4 board with depth 2 or 4, the agent returns a move almost instantly.\n",
        " However, as we increase either the number of rows/columns or the maximum depth, the runtime grows exponentially.\n",
        " This is because the branching factor in Connect 4 is up to 7 per move, and each additional depth level increases\n",
        " the number of game states the agent must evaluate.\n",
        "\n",
        "For example, on a standard 6×7 board, searching to depth 6 may require exploring millions of possible board states,\n",
        "especially when no pruning occurs early. As a result, running the full Minimax algorithm with alpha-beta pruning on a\n",
        "6×7 board becomes computationally expensive and impractical for real-time gameplay unless you apply depth cutoffs and heuristics to limit the search space.\n",
        "\n",
        "\n",
        "'''"
      ]
    },
    {
      "cell_type": "markdown",
      "metadata": {
        "id": "z-JtIFT69gZr"
      },
      "source": [
        "### Move ordering [5 points]\n",
        "\n",
        "Starting the search with better moves will increase the efficiency of alpha-beta pruning. Describe and implement a simple move ordering strategy. Make a table that shows how the ordering strategies influence the time it takes to make a move?"
      ]
    },
    {
      "cell_type": "code",
      "execution_count": 134,
      "metadata": {
        "colab": {
          "base_uri": "https://localhost:8080/"
        },
        "id": "mTE6nsNf9gZr",
        "outputId": "927e8514-81ee-483c-d68d-023e270292d0"
      },
      "outputs": [
        {
          "output_type": "stream",
          "name": "stdout",
          "text": [
            "Unordered time: 0.0486 sec\n",
            "Ordered time:   0.0484 sec\n"
          ]
        }
      ],
      "source": [
        "'''\n",
        "Alpha-beta pruning becomes much more efficient when better moves are searched first.\n",
        " This is because pruning can skip large parts of the game tree when a good move causes a cutoff early.\n",
        "  A simple move ordering strategy is to search columns starting from the center of the board and then move outward,\n",
        "  as Connect 4 strategies often favor the center.\n",
        "\n",
        "This strategy helps prioritize likely better moves and improves pruning. To demonstrate this, we compare runtimes for two strategies:\n",
        "\n",
        "Unordered: Actions are evaluated left to right (0 to 6).\n",
        "\n",
        "Center-first: Actions are sorted by distance from the center, with center columns tried first.\n",
        "\n",
        "'''\n",
        "\n",
        "def unordered_actions(board):\n",
        "    return [col for col in range(board.shape[1]) if board[0][col] == 0]\n",
        "\n",
        "import time\n",
        "\n",
        "class MinimaxAgentUnordered:\n",
        "    def __init__(self, max_depth=5):\n",
        "        self.max_depth = max_depth\n",
        "\n",
        "    def __call__(self, board, player=1):\n",
        "        action, _ = self.minimax(board, player, player, 0, float('-inf'), float('inf'))\n",
        "        return action\n",
        "\n",
        "    def minimax(self, board, root_player, current_player, depth, alpha, beta):\n",
        "        if terminal(board) or depth == self.max_depth:\n",
        "            return None, utility(board, root_player)\n",
        "\n",
        "        best_value = float('-inf') if current_player == root_player else float('inf')\n",
        "        best_action = None\n",
        "\n",
        "        for action in unordered_actions(board):\n",
        "            new_board = result(board, current_player, action)\n",
        "            if depth == 0 and check_winner(new_board) == current_player:\n",
        "                return action, 1\n",
        "            _, value = self.minimax(new_board, root_player, -current_player, depth + 1, alpha, beta)\n",
        "\n",
        "            if current_player == root_player:\n",
        "                if value > best_value:\n",
        "                    best_value = value\n",
        "                    best_action = action\n",
        "                alpha = max(alpha, best_value)\n",
        "                if beta <= alpha:\n",
        "                    break\n",
        "            else:\n",
        "                if value < best_value:\n",
        "                    best_value = value\n",
        "                    best_action = action\n",
        "                beta = min(beta, best_value)\n",
        "                if beta <= alpha:\n",
        "                    break\n",
        "\n",
        "        return best_action, best_value\n",
        "\n",
        "\n",
        "class MinimaxAgentOrdered(MinimaxAgentUnordered):\n",
        "    def minimax(self, board, root_player, current_player, depth, alpha, beta):\n",
        "        if terminal(board) or depth == self.max_depth:\n",
        "            return None, utility(board, root_player)\n",
        "\n",
        "        best_value = float('-inf') if current_player == root_player else float('inf')\n",
        "        best_action = None\n",
        "\n",
        "        for action in ordered_actions(board):\n",
        "            new_board = result(board, current_player, action)\n",
        "            if depth == 0 and check_winner(new_board) == current_player:\n",
        "                return action, 1\n",
        "            _, value = self.minimax(new_board, root_player, -current_player, depth + 1, alpha, beta)\n",
        "\n",
        "            if current_player == root_player:\n",
        "                if value > best_value:\n",
        "                    best_value = value\n",
        "                    best_action = action\n",
        "                alpha = max(alpha, best_value)\n",
        "                if beta <= alpha:\n",
        "                    break\n",
        "            else:\n",
        "                if value < best_value:\n",
        "                    best_value = value\n",
        "                    best_action = action\n",
        "                beta = min(beta, best_value)\n",
        "                if beta <= alpha:\n",
        "                    break\n",
        "\n",
        "        return best_action, best_value\n",
        "\n",
        "board = empty_board((6, 7))\n",
        "depth = 5\n",
        "\n",
        "start = time.time()\n",
        "MinimaxAgentUnordered(max_depth=depth)(board, 1)\n",
        "unordered_time = time.time() - start\n",
        "\n",
        "start = time.time()\n",
        "MinimaxAgentOrdered(max_depth=depth)(board, 1)\n",
        "ordered_time = time.time() - start\n",
        "\n",
        "print(f\"Unordered time: {unordered_time:.4f} sec\")\n",
        "print(f\"Ordered time:   {ordered_time:.4f} sec\")\n",
        "\n"
      ]
    },
    {
      "cell_type": "markdown",
      "metadata": {
        "id": "FGfRy4IU9gZs"
      },
      "source": [
        "### The first few moves [5 points]\n",
        "\n",
        "Start with an empty board. This is the worst case scenario for minimax search since it needs solve all possible games that can be played (minus some pruning) before making the decision. What can you do?"
      ]
    },
    {
      "cell_type": "code",
      "execution_count": null,
      "metadata": {
        "id": "nEHETyb69gZs"
      },
      "outputs": [],
      "source": [
        "'''\n",
        "When starting with an empty board, the Minimax algorithm must consider all possible games that could unfold from that point onward. This creates the largest possible game tree, especially on a standard 6×7 Connect 4 board, where each move has up to 7 options and the game can last 42 moves.\n",
        "\n",
        "As a result, searching the full tree from the empty board is computationally infeasible, even with alpha-beta pruning.\n",
        "\n",
        "To address this:\n",
        "\n",
        "Limit the search depth to a manageable number (e.g., 4 or 6), and use a heuristic evaluation function instead of searching all the way to terminal states.\n",
        "\n",
        "Order the moves intelligently (e.g., center-first), so alpha-beta pruning is more effective.\n",
        "\n",
        "Use opening book strategies based on human knowledge or simulations to predefine good first moves, avoiding unnecessary search.\n",
        "\n",
        "In practice, many implementations also cache early board states (transposition tables) to avoid re-computation.\n",
        "\n",
        "By applying these strategies, we can make the first move decision both fast and effective, even from the most complex starting point — the empty board.\n",
        "\n",
        "'''"
      ]
    },
    {
      "cell_type": "markdown",
      "metadata": {
        "id": "fX5wFD4k9gZs"
      },
      "source": [
        "### Playtime [5 points]\n",
        "\n",
        "Let the Minimax Search agent play a random agent on a $4 \\times 4$ board. Analyze wins, losses and draws."
      ]
    },
    {
      "cell_type": "code",
      "execution_count": 135,
      "metadata": {
        "colab": {
          "base_uri": "https://localhost:8080/"
        },
        "id": "TK_mQoiK9gZs",
        "outputId": "f752390f-39bb-4a73-9c23-7f9581f0565b"
      },
      "outputs": [
        {
          "output_type": "stream",
          "name": "stdout",
          "text": [
            "Results after 100 games:\n",
            "Minimax Agent Wins (Player 1): 57\n",
            "Random Agent Wins (Player -1): 23\n",
            "Draws: 20\n"
          ]
        }
      ],
      "source": [
        "import random\n",
        "\n",
        "def random_player(board, player=1):\n",
        "    available = [col for col in range(board.shape[1]) if board[0][col] == 0]\n",
        "    return random.choice(available) if available else None\n",
        "\n",
        "def play_game(agent1, agent2, board_shape=(4, 4)):\n",
        "    board = empty_board(board_shape)\n",
        "    current_player = 1\n",
        "    agents = {1: agent1, -1: agent2}\n",
        "\n",
        "    while not terminal(board):\n",
        "        action = agents[current_player](board, current_player)\n",
        "        if action is None:\n",
        "            break  # No valid moves\n",
        "        board = result(board, current_player, action)\n",
        "        current_player *= -1\n",
        "\n",
        "    return check_winner(board)\n",
        "\n",
        "def run_minimax_vs_random(num_games=100):\n",
        "    wins = {1: 0, -1: 0, 0: 0}\n",
        "    for _ in range(num_games):\n",
        "        winner = play_game(MinimaxAgent(max_depth=6), random_player, board_shape=(4, 4))\n",
        "        wins[winner] += 1\n",
        "    return wins\n",
        "\n",
        "results = run_minimax_vs_random(100)\n",
        "print(\"Results after 100 games:\")\n",
        "print(f\"Minimax Agent Wins (Player 1): {results[1]}\")\n",
        "print(f\"Random Agent Wins (Player -1): {results[-1]}\")\n",
        "print(f\"Draws: {results[0]}\")\n"
      ]
    },
    {
      "cell_type": "markdown",
      "metadata": {
        "id": "3xK3HIc-9gZs"
      },
      "source": [
        "## Task 4: Heuristic Alpha-Beta Tree Search\n",
        "\n",
        "### Heuristic evaluation function [15 points]\n",
        "\n",
        "Define and implement a heuristic evaluation function. Make sure that the heuristic value stays in the correct range."
      ]
    },
    {
      "cell_type": "code",
      "execution_count": null,
      "metadata": {
        "id": "0M8qCHGX9gZs"
      },
      "outputs": [],
      "source": [
        "# Your code/ answer goes here."
      ]
    },
    {
      "cell_type": "markdown",
      "metadata": {
        "id": "TGMUoayu9gZs"
      },
      "source": [
        "### Cutting Off Search [10 points]\n",
        "\n",
        "Modify your minimax search with alpha-beta pruning to cut off search at a specified depth and use the heuristic evaluation function. Experiment with different cutoff values."
      ]
    },
    {
      "cell_type": "code",
      "execution_count": null,
      "metadata": {
        "id": "BkjEitf09gZs"
      },
      "outputs": [],
      "source": [
        "# Your code/ answer goes here."
      ]
    },
    {
      "cell_type": "markdown",
      "metadata": {
        "id": "VYAFuoLt9gZs"
      },
      "source": [
        "Experiment with the same manually created boards as above to check if the agent spots wining opportunities."
      ]
    },
    {
      "cell_type": "code",
      "execution_count": null,
      "metadata": {
        "id": "_XILdW7d9gZs"
      },
      "outputs": [],
      "source": [
        "# Your code/ answer goes here."
      ]
    },
    {
      "cell_type": "markdown",
      "metadata": {
        "id": "qYm4grIr9gZs"
      },
      "source": [
        "How long does it take to make a move? Start with a smaller board with 4 columns and make the board larger by adding columns."
      ]
    },
    {
      "cell_type": "code",
      "execution_count": null,
      "metadata": {
        "id": "UO08NNWX9gZs"
      },
      "outputs": [],
      "source": [
        "# Your code/ answer goes here."
      ]
    },
    {
      "cell_type": "markdown",
      "metadata": {
        "id": "G2dwzYDP9gZt"
      },
      "source": [
        "### Playtime [5 points]\n",
        "\n",
        "Let two heuristic search agents (different cutoff depth) compete against each other on a reasonably sized board. Since there is no randomness, you only need to let them play once."
      ]
    },
    {
      "cell_type": "code",
      "execution_count": null,
      "metadata": {
        "id": "cRt9SltH9gZt"
      },
      "outputs": [],
      "source": [
        "# Your code/ answer goes here."
      ]
    },
    {
      "cell_type": "markdown",
      "metadata": {
        "id": "LZCm4ol39gZw"
      },
      "source": [
        "## Challenge task [up to +10 bonus point will be awarded separately]\n",
        "\n",
        "Find another student and let your best agent play against the other student's best player. We will set up a class tournament on Canvas. This tournament will continue after the submission deadline."
      ]
    },
    {
      "cell_type": "markdown",
      "metadata": {
        "id": "q0p-Wi7t9gZw"
      },
      "source": [
        "## Graduate student advanced task: Pure Monte Carlo Search and Best First Move [10 point]\n",
        "\n",
        "__Undergraduate students:__ This is a bonus task you can attempt if you like [+5 bonus point].\n",
        "\n",
        "### Pure Monte Carlo Search\n",
        "\n",
        "Implement Pure Monte Carlo Search and investigate how this search performs on the test boards that you have used above."
      ]
    },
    {
      "cell_type": "code",
      "execution_count": null,
      "metadata": {
        "id": "88eQLeGU9gZx"
      },
      "outputs": [],
      "source": [
        "# Your code/ answer goes here."
      ]
    },
    {
      "cell_type": "markdown",
      "metadata": {
        "id": "eFu9uA3W9gZx"
      },
      "source": [
        "### Best First Move\n",
        "\n",
        "Use your Monte Carlo Search to determine what the best first move for red is? Describe under what assumptions this is the \"best\" first move.  "
      ]
    },
    {
      "cell_type": "code",
      "execution_count": null,
      "metadata": {
        "id": "waRpP95i9gZx"
      },
      "outputs": [],
      "source": [
        "# Your code/ answer goes here."
      ]
    }
  ],
  "metadata": {
    "kernelspec": {
      "display_name": "Python 3 (ipykernel)",
      "language": "python",
      "name": "python3"
    },
    "language_info": {
      "codemirror_mode": {
        "name": "ipython",
        "version": 3
      },
      "file_extension": ".py",
      "mimetype": "text/x-python",
      "name": "python",
      "nbconvert_exporter": "python",
      "pygments_lexer": "ipython3",
      "version": "3.10.12"
    },
    "colab": {
      "provenance": []
    }
  },
  "nbformat": 4,
  "nbformat_minor": 0
}